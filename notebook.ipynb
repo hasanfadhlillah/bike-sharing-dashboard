{
  "cells": [
    {
      "cell_type": "markdown",
      "metadata": {
        "id": "H9wADwK78DCz"
      },
      "source": [
        "# Proyek Analisis Data: Bike Sharing Dataset\n",
        "- **Nama:** Muhammad Hasan Fadhlillah\n",
        "- **Email:** mc006d5y2342@student.devacademy.id\n",
        "- **ID Dicoding:** MC006D5Y2342"
      ]
    },
    {
      "cell_type": "markdown",
      "metadata": {
        "id": "eE0raob58DC0"
      },
      "source": [
        "## Menentukan Pertanyaan Bisnis"
      ]
    },
    {
      "cell_type": "markdown",
      "metadata": {
        "id": "GmQeQ5YF8DC0"
      },
      "source": [
        "- **Pertanyaan 1**: Bagaimana pola penggunaan sepeda berdasarkan waktu (jam, hari, bulan, dan musim)?\n",
        "  - Tujuan: Mengetahui tren penyewaan sepeda berdasarkan waktu untuk mengoptimalkan operasional dan promosi.\n",
        "\n",
        "- **Pertanyaan 2**: Bagaimana pengaruh kondisi cuaca terhadap jumlah penyewaan sepeda?\n",
        "  - Tujuan: Memahami faktor cuaca yang memengaruhi penyewaan sepeda untuk merencanakan strategi operasional."
      ]
    },
    {
      "cell_type": "markdown",
      "metadata": {
        "id": "H-z4QGlO8DC1"
      },
      "source": [
        "## Import Semua Packages/Library yang Digunakan"
      ]
    },
    {
      "cell_type": "code",
      "execution_count": 21,
      "metadata": {},
      "outputs": [
        {
          "name": "stdout",
          "output_type": "stream",
          "text": [
            "Requirement already satisfied: folium in d:\\anaconda\\envs\\dsml\\lib\\site-packages (0.19.5)\n",
            "Requirement already satisfied: branca>=0.6.0 in d:\\anaconda\\envs\\dsml\\lib\\site-packages (from folium) (0.8.1)\n",
            "Requirement already satisfied: requests in d:\\anaconda\\envs\\dsml\\lib\\site-packages (from folium) (2.28.2)\n",
            "Requirement already satisfied: xyzservices in d:\\anaconda\\envs\\dsml\\lib\\site-packages (from folium) (2025.1.0)\n",
            "Requirement already satisfied: numpy in d:\\anaconda\\envs\\dsml\\lib\\site-packages (from folium) (1.26.4)\n",
            "Requirement already satisfied: jinja2>=2.9 in d:\\anaconda\\envs\\dsml\\lib\\site-packages (from folium) (3.0.3)\n",
            "Requirement already satisfied: MarkupSafe>=2.0 in d:\\anaconda\\envs\\dsml\\lib\\site-packages (from jinja2>=2.9->folium) (2.1.2)\n",
            "Requirement already satisfied: urllib3<1.27,>=1.21.1 in d:\\anaconda\\envs\\dsml\\lib\\site-packages (from requests->folium) (1.26.15)\n",
            "Requirement already satisfied: charset-normalizer<4,>=2 in d:\\anaconda\\envs\\dsml\\lib\\site-packages (from requests->folium) (2.0.4)\n",
            "Requirement already satisfied: idna<4,>=2.5 in d:\\anaconda\\envs\\dsml\\lib\\site-packages (from requests->folium) (3.4)\n",
            "Requirement already satisfied: certifi>=2017.4.17 in d:\\anaconda\\envs\\dsml\\lib\\site-packages (from requests->folium) (2022.12.7)\n",
            "Note: you may need to restart the kernel to use updated packages.\n"
          ]
        }
      ],
      "source": [
        "%pip install folium"
      ]
    },
    {
      "cell_type": "code",
      "execution_count": 1,
      "metadata": {
        "id": "FVYwaObI8DC1"
      },
      "outputs": [],
      "source": [
        "# Import library yang diperlukan\n",
        "import numpy as np\n",
        "import pandas as pd\n",
        "import matplotlib.pyplot as plt\n",
        "import seaborn as sns\n",
        "from datetime import datetime\n",
        "import calendar\n",
        "from sklearn.cluster import KMeans\n",
        "from sklearn.preprocessing import StandardScaler\n",
        "import folium\n",
        "from folium.plugins import HeatMap\n",
        "import warnings\n",
        "\n",
        "# Mengatur tampilan visualisasi\n",
        "plt.style.use('ggplot')\n",
        "plt.rcParams['figure.figsize'] = (12, 8)\n",
        "plt.rcParams['font.size'] = 12\n",
        "\n",
        "# Menonaktifkan peringatan\n",
        "warnings.filterwarnings('ignore')"
      ]
    },
    {
      "cell_type": "markdown",
      "metadata": {
        "id": "h_Sh51Xy8DC1"
      },
      "source": [
        "## Data Wrangling"
      ]
    },
    {
      "cell_type": "markdown",
      "metadata": {
        "id": "sXU2GBYu8DC1"
      },
      "source": [
        "### Gathering Data"
      ]
    },
    {
      "cell_type": "code",
      "execution_count": 2,
      "metadata": {
        "id": "zjCBk1BI8DC1"
      },
      "outputs": [],
      "source": [
        "# Load dataset\n",
        "day_data = pd.read_csv('data/day.csv')\n",
        "hour_data = pd.read_csv('data/hour.csv')"
      ]
    },
    {
      "cell_type": "code",
      "execution_count": 3,
      "metadata": {
        "colab": {
          "base_uri": "https://localhost:8080/"
        },
        "id": "cGHrmL1uXsdt",
        "outputId": "d7de98ad-39f6-4e53-fd2d-0e93ad44a6f7"
      },
      "outputs": [
        {
          "name": "stdout",
          "output_type": "stream",
          "text": [
            "Informasi Dataset Harian:\n",
            "<class 'pandas.core.frame.DataFrame'>\n",
            "RangeIndex: 731 entries, 0 to 730\n",
            "Data columns (total 16 columns):\n",
            " #   Column      Non-Null Count  Dtype  \n",
            "---  ------      --------------  -----  \n",
            " 0   instant     731 non-null    int64  \n",
            " 1   dteday      731 non-null    object \n",
            " 2   season      731 non-null    int64  \n",
            " 3   yr          731 non-null    int64  \n",
            " 4   mnth        731 non-null    int64  \n",
            " 5   holiday     731 non-null    int64  \n",
            " 6   weekday     731 non-null    int64  \n",
            " 7   workingday  731 non-null    int64  \n",
            " 8   weathersit  731 non-null    int64  \n",
            " 9   temp        731 non-null    float64\n",
            " 10  atemp       731 non-null    float64\n",
            " 11  hum         731 non-null    float64\n",
            " 12  windspeed   731 non-null    float64\n",
            " 13  casual      731 non-null    int64  \n",
            " 14  registered  731 non-null    int64  \n",
            " 15  cnt         731 non-null    int64  \n",
            "dtypes: float64(4), int64(11), object(1)\n",
            "memory usage: 91.5+ KB\n",
            "None\n",
            "\n",
            "Lima data pertama dataset harian:\n",
            "   instant      dteday  season  yr  mnth  holiday  weekday  workingday  \\\n",
            "0        1  2011-01-01       1   0     1        0        6           0   \n",
            "1        2  2011-01-02       1   0     1        0        0           0   \n",
            "2        3  2011-01-03       1   0     1        0        1           1   \n",
            "3        4  2011-01-04       1   0     1        0        2           1   \n",
            "4        5  2011-01-05       1   0     1        0        3           1   \n",
            "\n",
            "   weathersit      temp     atemp       hum  windspeed  casual  registered  \\\n",
            "0           2  0.344167  0.363625  0.805833   0.160446     331         654   \n",
            "1           2  0.363478  0.353739  0.696087   0.248539     131         670   \n",
            "2           1  0.196364  0.189405  0.437273   0.248309     120        1229   \n",
            "3           1  0.200000  0.212122  0.590435   0.160296     108        1454   \n",
            "4           1  0.226957  0.229270  0.436957   0.186900      82        1518   \n",
            "\n",
            "    cnt  \n",
            "0   985  \n",
            "1   801  \n",
            "2  1349  \n",
            "3  1562  \n",
            "4  1600  \n"
          ]
        }
      ],
      "source": [
        "# Tampilkan informasi dataset harian\n",
        "print(\"Informasi Dataset Harian:\")\n",
        "print(day_data.info())\n",
        "print(\"\\nLima data pertama dataset harian:\")\n",
        "print(day_data.head())"
      ]
    },
    {
      "cell_type": "code",
      "execution_count": 4,
      "metadata": {
        "colab": {
          "base_uri": "https://localhost:8080/"
        },
        "id": "-C9FQWGrZpyD",
        "outputId": "fe8ddb3e-43e2-47da-9647-13aca3d6fd5c"
      },
      "outputs": [
        {
          "name": "stdout",
          "output_type": "stream",
          "text": [
            "Informasi Dataset Per Jam:\n",
            "<class 'pandas.core.frame.DataFrame'>\n",
            "RangeIndex: 17379 entries, 0 to 17378\n",
            "Data columns (total 17 columns):\n",
            " #   Column      Non-Null Count  Dtype  \n",
            "---  ------      --------------  -----  \n",
            " 0   instant     17379 non-null  int64  \n",
            " 1   dteday      17379 non-null  object \n",
            " 2   season      17379 non-null  int64  \n",
            " 3   yr          17379 non-null  int64  \n",
            " 4   mnth        17379 non-null  int64  \n",
            " 5   hr          17379 non-null  int64  \n",
            " 6   holiday     17379 non-null  int64  \n",
            " 7   weekday     17379 non-null  int64  \n",
            " 8   workingday  17379 non-null  int64  \n",
            " 9   weathersit  17379 non-null  int64  \n",
            " 10  temp        17379 non-null  float64\n",
            " 11  atemp       17379 non-null  float64\n",
            " 12  hum         17379 non-null  float64\n",
            " 13  windspeed   17379 non-null  float64\n",
            " 14  casual      17379 non-null  int64  \n",
            " 15  registered  17379 non-null  int64  \n",
            " 16  cnt         17379 non-null  int64  \n",
            "dtypes: float64(4), int64(12), object(1)\n",
            "memory usage: 2.3+ MB\n",
            "None\n",
            "\n",
            "Lima data pertama dataset per jam:\n",
            "   instant      dteday  season  yr  mnth  hr  holiday  weekday  workingday  \\\n",
            "0        1  2011-01-01       1   0     1   0        0        6           0   \n",
            "1        2  2011-01-01       1   0     1   1        0        6           0   \n",
            "2        3  2011-01-01       1   0     1   2        0        6           0   \n",
            "3        4  2011-01-01       1   0     1   3        0        6           0   \n",
            "4        5  2011-01-01       1   0     1   4        0        6           0   \n",
            "\n",
            "   weathersit  temp   atemp   hum  windspeed  casual  registered  cnt  \n",
            "0           1  0.24  0.2879  0.81        0.0       3          13   16  \n",
            "1           1  0.22  0.2727  0.80        0.0       8          32   40  \n",
            "2           1  0.22  0.2727  0.80        0.0       5          27   32  \n",
            "3           1  0.24  0.2879  0.75        0.0       3          10   13  \n",
            "4           1  0.24  0.2879  0.75        0.0       0           1    1  \n"
          ]
        }
      ],
      "source": [
        "# Tampilkan informasi dataset per jam\n",
        "print(\"Informasi Dataset Per Jam:\")\n",
        "print(hour_data.info())\n",
        "print(\"\\nLima data pertama dataset per jam:\")\n",
        "print(hour_data.head())"
      ]
    },
    {
      "cell_type": "markdown",
      "metadata": {
        "id": "WY-CtfHjZ_o4"
      },
      "source": [
        "**Insight:**\n",
        "- Dataset Harian (day_data):\n",
        "  - Terdiri dari 731 baris dan 16 kolom.\n",
        "  - Kolom-kolom utama: season, yr, mnth, holiday, weekday, workingday, weathersit, temp, atemp, hum, windspeed, casual, registered, dan cnt.\n",
        "  - Rentang waktu: 2011-01-01 hingga 2012-12-31.\n",
        "- Dataset Per Jam (hour_data):\n",
        "  - Terdiri dari 17.379 baris dan 17 kolom.\n",
        "  - Kolom tambahan: hr (jam).\n",
        "  - Rentang waktu yang sama dengan dataset harian.\n",
        "- Dataset mencakup 2 tahun penuh (2011-2012) dengan granularitas harian dan per jam."
      ]
    },
    {
      "cell_type": "markdown",
      "metadata": {
        "id": "FHSiqaZp8DC1"
      },
      "source": [
        "### Assessing Data"
      ]
    },
    {
      "cell_type": "code",
      "execution_count": 5,
      "metadata": {
        "colab": {
          "base_uri": "https://localhost:8080/"
        },
        "id": "ax-3tEjc9Cj1",
        "outputId": "e1f7fe27-3ff7-42ea-93ca-99e6cccf5d30"
      },
      "outputs": [
        {
          "name": "stdout",
          "output_type": "stream",
          "text": [
            "Missing values di dataset harian:\n",
            "instant       0\n",
            "dteday        0\n",
            "season        0\n",
            "yr            0\n",
            "mnth          0\n",
            "holiday       0\n",
            "weekday       0\n",
            "workingday    0\n",
            "weathersit    0\n",
            "temp          0\n",
            "atemp         0\n",
            "hum           0\n",
            "windspeed     0\n",
            "casual        0\n",
            "registered    0\n",
            "cnt           0\n",
            "dtype: int64\n",
            "\n",
            "Missing values di dataset per jam:\n",
            "instant       0\n",
            "dteday        0\n",
            "season        0\n",
            "yr            0\n",
            "mnth          0\n",
            "hr            0\n",
            "holiday       0\n",
            "weekday       0\n",
            "workingday    0\n",
            "weathersit    0\n",
            "temp          0\n",
            "atemp         0\n",
            "hum           0\n",
            "windspeed     0\n",
            "casual        0\n",
            "registered    0\n",
            "cnt           0\n",
            "dtype: int64\n"
          ]
        }
      ],
      "source": [
        "# Cek missing values\n",
        "print(\"Missing values di dataset harian:\")\n",
        "print(day_data.isnull().sum())\n",
        "print(\"\\nMissing values di dataset per jam:\")\n",
        "print(hour_data.isnull().sum())"
      ]
    },
    {
      "cell_type": "code",
      "execution_count": 6,
      "metadata": {
        "colab": {
          "base_uri": "https://localhost:8080/"
        },
        "id": "qM3qy2w3X3rF",
        "outputId": "1bdcab56-a663-41fd-f2bd-46e8be1dd91e"
      },
      "outputs": [
        {
          "name": "stdout",
          "output_type": "stream",
          "text": [
            "Duplikat di dataset harian: 0\n",
            "Duplikat di dataset per jam: 0\n"
          ]
        }
      ],
      "source": [
        "# Cek nilai duplikat\n",
        "print(\"Duplikat di dataset harian:\", day_data.duplicated().sum())\n",
        "print(\"Duplikat di dataset per jam:\", hour_data.duplicated().sum())"
      ]
    },
    {
      "cell_type": "code",
      "execution_count": 7,
      "metadata": {
        "colab": {
          "base_uri": "https://localhost:8080/"
        },
        "id": "TqWX8JGBX5bM",
        "outputId": "57d81437-a54b-44fc-f9ad-66367d3f61ba"
      },
      "outputs": [
        {
          "name": "stdout",
          "output_type": "stream",
          "text": [
            "Statistik deskriptif dataset harian:\n",
            "          instant      season          yr        mnth     holiday     weekday  \\\n",
            "count  731.000000  731.000000  731.000000  731.000000  731.000000  731.000000   \n",
            "mean   366.000000    2.496580    0.500684    6.519836    0.028728    2.997264   \n",
            "std    211.165812    1.110807    0.500342    3.451913    0.167155    2.004787   \n",
            "min      1.000000    1.000000    0.000000    1.000000    0.000000    0.000000   \n",
            "25%    183.500000    2.000000    0.000000    4.000000    0.000000    1.000000   \n",
            "50%    366.000000    3.000000    1.000000    7.000000    0.000000    3.000000   \n",
            "75%    548.500000    3.000000    1.000000   10.000000    0.000000    5.000000   \n",
            "max    731.000000    4.000000    1.000000   12.000000    1.000000    6.000000   \n",
            "\n",
            "       workingday  weathersit        temp       atemp         hum   windspeed  \\\n",
            "count  731.000000  731.000000  731.000000  731.000000  731.000000  731.000000   \n",
            "mean     0.683995    1.395349    0.495385    0.474354    0.627894    0.190486   \n",
            "std      0.465233    0.544894    0.183051    0.162961    0.142429    0.077498   \n",
            "min      0.000000    1.000000    0.059130    0.079070    0.000000    0.022392   \n",
            "25%      0.000000    1.000000    0.337083    0.337842    0.520000    0.134950   \n",
            "50%      1.000000    1.000000    0.498333    0.486733    0.626667    0.180975   \n",
            "75%      1.000000    2.000000    0.655417    0.608602    0.730209    0.233214   \n",
            "max      1.000000    3.000000    0.861667    0.840896    0.972500    0.507463   \n",
            "\n",
            "            casual   registered          cnt  \n",
            "count   731.000000   731.000000   731.000000  \n",
            "mean    848.176471  3656.172367  4504.348837  \n",
            "std     686.622488  1560.256377  1937.211452  \n",
            "min       2.000000    20.000000    22.000000  \n",
            "25%     315.500000  2497.000000  3152.000000  \n",
            "50%     713.000000  3662.000000  4548.000000  \n",
            "75%    1096.000000  4776.500000  5956.000000  \n",
            "max    3410.000000  6946.000000  8714.000000  \n",
            "\n",
            "Statistik deskriptif dataset per jam:\n",
            "          instant        season            yr          mnth            hr  \\\n",
            "count  17379.0000  17379.000000  17379.000000  17379.000000  17379.000000   \n",
            "mean    8690.0000      2.501640      0.502561      6.537775     11.546752   \n",
            "std     5017.0295      1.106918      0.500008      3.438776      6.914405   \n",
            "min        1.0000      1.000000      0.000000      1.000000      0.000000   \n",
            "25%     4345.5000      2.000000      0.000000      4.000000      6.000000   \n",
            "50%     8690.0000      3.000000      1.000000      7.000000     12.000000   \n",
            "75%    13034.5000      3.000000      1.000000     10.000000     18.000000   \n",
            "max    17379.0000      4.000000      1.000000     12.000000     23.000000   \n",
            "\n",
            "            holiday       weekday    workingday    weathersit          temp  \\\n",
            "count  17379.000000  17379.000000  17379.000000  17379.000000  17379.000000   \n",
            "mean       0.028770      3.003683      0.682721      1.425283      0.496987   \n",
            "std        0.167165      2.005771      0.465431      0.639357      0.192556   \n",
            "min        0.000000      0.000000      0.000000      1.000000      0.020000   \n",
            "25%        0.000000      1.000000      0.000000      1.000000      0.340000   \n",
            "50%        0.000000      3.000000      1.000000      1.000000      0.500000   \n",
            "75%        0.000000      5.000000      1.000000      2.000000      0.660000   \n",
            "max        1.000000      6.000000      1.000000      4.000000      1.000000   \n",
            "\n",
            "              atemp           hum     windspeed        casual    registered  \\\n",
            "count  17379.000000  17379.000000  17379.000000  17379.000000  17379.000000   \n",
            "mean       0.475775      0.627229      0.190098     35.676218    153.786869   \n",
            "std        0.171850      0.192930      0.122340     49.305030    151.357286   \n",
            "min        0.000000      0.000000      0.000000      0.000000      0.000000   \n",
            "25%        0.333300      0.480000      0.104500      4.000000     34.000000   \n",
            "50%        0.484800      0.630000      0.194000     17.000000    115.000000   \n",
            "75%        0.621200      0.780000      0.253700     48.000000    220.000000   \n",
            "max        1.000000      1.000000      0.850700    367.000000    886.000000   \n",
            "\n",
            "                cnt  \n",
            "count  17379.000000  \n",
            "mean     189.463088  \n",
            "std      181.387599  \n",
            "min        1.000000  \n",
            "25%       40.000000  \n",
            "50%      142.000000  \n",
            "75%      281.000000  \n",
            "max      977.000000  \n"
          ]
        }
      ],
      "source": [
        "# Cek statistik deskriptif\n",
        "print(\"Statistik deskriptif dataset harian:\")\n",
        "print(day_data.describe())\n",
        "\n",
        "print(\"\\nStatistik deskriptif dataset per jam:\")\n",
        "print(hour_data.describe())"
      ]
    },
    {
      "cell_type": "markdown",
      "metadata": {
        "id": "7dtxhAPrkhPL"
      },
      "source": [
        "- Missing Values:\n",
        "  - Tidak ada missing values di kedua dataset (day_data dan hour_data).\n",
        "- Duplikat:\n",
        "  - Tidak ada duplikat di kedua dataset.\n",
        "- Statistik Deskriptif:\n",
        "  - Penyewaan Harian (cnt):\n",
        "    - Rata-rata: 4.504 penyewaan per hari.\n",
        "    - Rentang: 22 hingga 8.714 penyewaan per hari.\n",
        "  - Penyewaan Per Jam (cnt):\n",
        "    - Rata-rata: 189,46 penyewaan per jam.\n",
        "    - Rentang: 1 hingga 977 penyewaan per jam.\n",
        "  - Cuaca (weathersit):\n",
        "    - Mayoritas kondisi cuaca adalah Clear (1) dan Mist (2).\n",
        "    - Kondisi cuaca ekstrem (Heavy Rain/Snow) jarang terjadi.\n",
        "\n",
        "- Penyewaan sepeda bervariasi secara signifikan tergantung pada waktu dan kondisi cuaca."
      ]
    },
    {
      "cell_type": "markdown",
      "metadata": {
        "id": "EhN5R4hr8DC1"
      },
      "source": [
        "### Cleaning Data"
      ]
    },
    {
      "cell_type": "code",
      "execution_count": 8,
      "metadata": {
        "id": "jVnYpprE9Evz"
      },
      "outputs": [],
      "source": [
        "# Konversi kolom tanggal menjadi datetime\n",
        "day_data['dteday'] = pd.to_datetime(day_data['dteday'])\n",
        "hour_data['dteday'] = pd.to_datetime(hour_data['dteday'])"
      ]
    },
    {
      "cell_type": "code",
      "execution_count": 9,
      "metadata": {
        "id": "4ne6ZbJwhe6f"
      },
      "outputs": [],
      "source": [
        "# Konversi variabel kategorikal ke tipe kategori\n",
        "categorical_cols = ['season', 'yr', 'mnth', 'holiday', 'weekday', 'workingday', 'weathersit']\n",
        "\n",
        "for col in categorical_cols:\n",
        "    day_data[col] = day_data[col].astype('category')\n",
        "    hour_data[col] = hour_data[col].astype('category')"
      ]
    },
    {
      "cell_type": "code",
      "execution_count": 10,
      "metadata": {
        "id": "f8guqhH8hhVr"
      },
      "outputs": [],
      "source": [
        "# Tambahkan kolom nama musim, bulan, dan hari\n",
        "season_mapping = {1: 'Spring', 2: 'Summer', 3: 'Fall', 4: 'Winter'}\n",
        "month_mapping = {i: calendar.month_name[i] for i in range(1, 13)}\n",
        "weekday_mapping = {0: 'Sunday', 1: 'Monday', 2: 'Tuesday', 3: 'Wednesday', 4: 'Thursday', 5: 'Friday', 6: 'Saturday'}\n",
        "weather_mapping = {1: 'Clear', 2: 'Mist', 3: 'Light Snow/Rain', 4: 'Heavy Rain/Snow'}\n",
        "\n",
        "day_data['season_name'] = day_data['season'].map(season_mapping)\n",
        "day_data['month_name'] = day_data['mnth'].map(month_mapping)\n",
        "day_data['weekday_name'] = day_data['weekday'].map(weekday_mapping)\n",
        "day_data['weather_name'] = day_data['weathersit'].map(weather_mapping)\n",
        "\n",
        "hour_data['season_name'] = hour_data['season'].map(season_mapping)\n",
        "hour_data['month_name'] = hour_data['mnth'].map(month_mapping)\n",
        "hour_data['weekday_name'] = hour_data['weekday'].map(weekday_mapping)\n",
        "hour_data['weather_name'] = hour_data['weathersit'].map(weather_mapping)"
      ]
    },
    {
      "cell_type": "code",
      "execution_count": 11,
      "metadata": {
        "colab": {
          "base_uri": "https://localhost:8080/"
        },
        "id": "nQkwCj79hjQf",
        "outputId": "4759426c-d5eb-4441-a67c-68105c86b8d5"
      },
      "outputs": [
        {
          "name": "stdout",
          "output_type": "stream",
          "text": [
            "Hasil Cleaning Data Harian:\n",
            "   instant     dteday season yr mnth holiday weekday workingday weathersit  \\\n",
            "0        1 2011-01-01      1  0    1       0       6          0          2   \n",
            "1        2 2011-01-02      1  0    1       0       0          0          2   \n",
            "2        3 2011-01-03      1  0    1       0       1          1          1   \n",
            "3        4 2011-01-04      1  0    1       0       2          1          1   \n",
            "4        5 2011-01-05      1  0    1       0       3          1          1   \n",
            "\n",
            "       temp     atemp       hum  windspeed  casual  registered   cnt  \\\n",
            "0  0.344167  0.363625  0.805833   0.160446     331         654   985   \n",
            "1  0.363478  0.353739  0.696087   0.248539     131         670   801   \n",
            "2  0.196364  0.189405  0.437273   0.248309     120        1229  1349   \n",
            "3  0.200000  0.212122  0.590435   0.160296     108        1454  1562   \n",
            "4  0.226957  0.229270  0.436957   0.186900      82        1518  1600   \n",
            "\n",
            "  season_name month_name weekday_name weather_name  \n",
            "0      Spring    January     Saturday         Mist  \n",
            "1      Spring    January       Sunday         Mist  \n",
            "2      Spring    January       Monday        Clear  \n",
            "3      Spring    January      Tuesday        Clear  \n",
            "4      Spring    January    Wednesday        Clear  \n",
            "\n",
            "Hasil Cleaning Data Per Jam:\n",
            "   instant     dteday season yr mnth  hr holiday weekday workingday  \\\n",
            "0        1 2011-01-01      1  0    1   0       0       6          0   \n",
            "1        2 2011-01-01      1  0    1   1       0       6          0   \n",
            "2        3 2011-01-01      1  0    1   2       0       6          0   \n",
            "3        4 2011-01-01      1  0    1   3       0       6          0   \n",
            "4        5 2011-01-01      1  0    1   4       0       6          0   \n",
            "\n",
            "  weathersit  ...   atemp   hum  windspeed  casual  registered  cnt  \\\n",
            "0          1  ...  0.2879  0.81        0.0       3          13   16   \n",
            "1          1  ...  0.2727  0.80        0.0       8          32   40   \n",
            "2          1  ...  0.2727  0.80        0.0       5          27   32   \n",
            "3          1  ...  0.2879  0.75        0.0       3          10   13   \n",
            "4          1  ...  0.2879  0.75        0.0       0           1    1   \n",
            "\n",
            "   season_name month_name weekday_name weather_name  \n",
            "0       Spring    January     Saturday        Clear  \n",
            "1       Spring    January     Saturday        Clear  \n",
            "2       Spring    January     Saturday        Clear  \n",
            "3       Spring    January     Saturday        Clear  \n",
            "4       Spring    January     Saturday        Clear  \n",
            "\n",
            "[5 rows x 21 columns]\n"
          ]
        }
      ],
      "source": [
        "# Memeriksa hasil cleaning\n",
        "print(\"Hasil Cleaning Data Harian:\")\n",
        "print(day_data.head())\n",
        "\n",
        "print(\"\\nHasil Cleaning Data Per Jam:\")\n",
        "print(hour_data.head())"
      ]
    },
    {
      "cell_type": "markdown",
      "metadata": {
        "id": "Q_5ejIqckiSP"
      },
      "source": [
        "**Insight:**\n",
        "- Konversi Tipe Data:\n",
        "  - Kolom dteday diubah menjadi datetime.\n",
        "  - Kolom kategorikal (season, yr, mnth, holiday, weekday, workingday, weathersit) diubah menjadi tipe category.\n",
        "- Penambahan Kolom Baru:\n",
        "  - Kolom season_name, month_name, weekday_name, dan weather_name ditambahkan untuk memudahkan interpretasi.\n",
        "  - Contoh: season_name mengubah nilai 1 menjadi Spring, 2 menjadi Summer, dst.\n",
        "\n",
        "- Penambahan kolom baru memudahkan visualisasi dan interpretasi data."
      ]
    },
    {
      "cell_type": "markdown",
      "metadata": {
        "id": "gp-Y6wU38DC1"
      },
      "source": [
        "## Exploratory Data Analysis (EDA)"
      ]
    },
    {
      "cell_type": "markdown",
      "metadata": {
        "id": "MW7WF2kr8DC1"
      },
      "source": [
        "### Pola Penggunaan Sepeda Berdasarkan Waktu"
      ]
    },
    {
      "cell_type": "code",
      "execution_count": 12,
      "metadata": {
        "colab": {
          "base_uri": "https://localhost:8080/",
          "height": 336
        },
        "id": "e9CQCZjk8DC2",
        "outputId": "87b0c287-2bab-44f6-eed8-71abd9dd7619"
      },
      "outputs": [
        {
          "data": {
            "image/png": "[encoded data removed]",
            "text/plain": [
              "<Figure size 1400x700 with 1 Axes>"
            ]
          },
          "metadata": {},
          "output_type": "display_data"
        }
      ],
      "source": [
        "# Pola bulanan\n",
        "monthly_rentals = day_data.groupby('month_name')['cnt'].mean().reindex(list(calendar.month_name)[1:])\n",
        "plt.figure(figsize=(14, 7))\n",
        "sns.barplot(x=monthly_rentals.index, y=monthly_rentals.values)\n",
        "plt.title('Rata-rata Penyewaan Sepeda per Bulan', fontsize=16)\n",
        "plt.xlabel('Bulan')\n",
        "plt.ylabel('Rata-rata Penyewaan')\n",
        "plt.xticks(rotation=45)\n",
        "plt.tight_layout()\n",
        "plt.show()"
      ]
    },
    {
      "cell_type": "markdown",
      "metadata": {
        "id": "lizm-CN3qKb-"
      },
      "source": [
        "- **Bulan dengan Penyewaan Tertinggi**:\n",
        "  - **Agustus (August)**: Rata-rata penyewaan mencapai **~5.000**.\n",
        "  - **September**: Rata-rata penyewaan mendekati **5.000**.\n",
        "- **Bulan dengan Penyewaan Terendah**:\n",
        "  - **Desember (December)**: Rata-rata penyewaan turun hingga **~2.000**.\n",
        "  - **November**: Rata-rata penyewaan sekitar **~2.500**.\n",
        "\n",
        "**Insight:**\n",
        "- Penyewaan sepeda **meningkat signifikan** pada **musim panas (Juni-September)**.\n",
        "- Penyewaan **menurun drastis** pada **musim dingin (November-Desember)**.\n",
        "- **Musim panas** adalah periode puncak penyewaan, sementara **musim dingin** adalah periode terendah."
      ]
    },
    {
      "cell_type": "markdown",
      "metadata": {
        "id": "C4iN01-Up-EF"
      },
      "source": [
        "### Pengaruh Cuaca Terhadap Penyewaan"
      ]
    },
    {
      "cell_type": "code",
      "execution_count": 13,
      "metadata": {
        "colab": {
          "base_uri": "https://localhost:8080/",
          "height": 336
        },
        "id": "XBOeC6sOp756",
        "outputId": "9634d063-f5a7-4281-b767-a798456f9f32"
      },
      "outputs": [
        {
          "data": {
            "image/png": "[encoded data removed]",
            "text/plain": [
              "<Figure size 1400x700 with 1 Axes>"
            ]
          },
          "metadata": {},
          "output_type": "display_data"
        }
      ],
      "source": [
        "# Boxplot kondisi cuaca\n",
        "plt.figure(figsize=(14, 7))\n",
        "sns.boxplot(x='weather_name', y='cnt', data=day_data)\n",
        "plt.title('Pengaruh Kondisi Cuaca terhadap Jumlah Penyewaan', fontsize=16)\n",
        "plt.xlabel('Kondisi Cuaca')\n",
        "plt.ylabel('Jumlah Penyewaan')\n",
        "plt.tight_layout()\n",
        "plt.show()"
      ]
    },
    {
      "cell_type": "markdown",
      "metadata": {
        "id": "b3tdoHKGqTan"
      },
      "source": [
        "- **Cuaca Cerah (Clear)**:\n",
        "  - Penyewaan tertinggi: **~5.000** per hari.\n",
        "  - Rentang interkuartil (IQR): **~4.000-6.000**.\n",
        "- **Cuaca Berkabut (Mist)**:\n",
        "  - Penyewaan menurun: **~3.000-4.000** per hari.\n",
        "- **Cuaca Hujan/Salju Ringan (Light Snow/Rain)**:\n",
        "  - Penyewaan terendah: **~1.000-2.000** per hari.\n",
        "\n",
        "**Insight:**\n",
        "- **Cuaca cerah** meningkatkan minat penyewaan sepeda secara signifikan.\n",
        "- **Cuaca buruk** (hujan/salju) mengurangi minat penyewaan.\n",
        "- **Cuaca berkabut** memiliki dampak moderat terhadap penyewaan."
      ]
    },
    {
      "cell_type": "markdown",
      "metadata": {},
      "source": [
        "###  Agregasi untuk Pertanyaan 1: Pola Penggunaan Sepeda Berdasarkan Waktu"
      ]
    },
    {
      "cell_type": "markdown",
      "metadata": {},
      "source": [
        "####  Agregasi Rata-rata Penyewaan per Jam"
      ]
    },
    {
      "cell_type": "code",
      "execution_count": 14,
      "metadata": {},
      "outputs": [
        {
          "name": "stdout",
          "output_type": "stream",
          "text": [
            "    hour  mean_rentals  median_rentals  max_rentals  min_rentals\n",
            "0      0     53.898072            40.0          283            2\n",
            "1      1     33.375691            20.0          168            1\n",
            "2      2     22.869930            11.0          132            1\n",
            "3      3     11.727403             6.0           79            1\n",
            "4      4      6.352941             6.0           28            1\n",
            "5      5     19.889819            19.0           66            1\n",
            "6      6     76.044138            76.0          213            1\n",
            "7      7    212.064649           208.0          596            1\n",
            "8      8    359.011004           385.0          839            5\n",
            "9      9    219.309491           216.0          426           14\n",
            "10    10    173.668501           147.0          539            8\n",
            "11    11    208.143054           180.0          663           10\n",
            "12    12    253.315934           229.0          776            3\n",
            "13    13    253.661180           224.0          760           11\n",
            "14    14    240.949246           212.0          750           12\n",
            "15    15    251.233196           227.0          750            7\n",
            "16    16    311.983562           304.5          783           11\n",
            "17    17    461.452055           475.0          976           15\n",
            "18    18    425.510989           418.5          977           23\n",
            "19    19    311.523352           309.5          743           11\n",
            "20    20    226.030220           223.5          567           11\n",
            "21    21    172.314560           173.5          584            6\n",
            "22    22    131.335165           129.0          502            9\n",
            "23    23     87.831044            80.0          256            2\n"
          ]
        }
      ],
      "source": [
        "hourly_agg = hour_data.groupby('hr').agg({\n",
        "    'cnt': ['mean', 'median', 'max', 'min']\n",
        "}).reset_index()\n",
        "\n",
        "hourly_agg.columns = ['hour', 'mean_rentals', 'median_rentals', 'max_rentals', 'min_rentals']\n",
        "print(hourly_agg)"
      ]
    },
    {
      "cell_type": "markdown",
      "metadata": {},
      "source": [
        "**Insight:**  \n",
        "- **Pola Jam Sibuk**:  \n",
        "  - **Pukul 8 pagi**: Rata-rata penyewaan mencapai **359 sepeda/jam** (puncak pagi).  \n",
        "  - **Pukul 17-18 sore**: Puncak sore dengan **461-425 sepeda/jam**.  \n",
        "  - **Interpretasi**: Pola ini khas untuk **commuting** (pergi/pulang kerja).  \n",
        "- **Pola Jam Tenang**:  \n",
        "  - **Pukul 23.00-4.00**: Penyewaan sangat rendah (<100 sepeda/jam), bahkan minimal **1 sepeda/jam** di dini hari.  \n",
        "- **Rekomendasi**:  \n",
        "  - Tingkatkan ketersediaan sepeda di jam sibuk.  \n",
        "  - Kurangi operasional di jam tengah malam untuk efisiensi biaya.\n"
      ]
    },
    {
      "cell_type": "markdown",
      "metadata": {},
      "source": [
        "####  Agregasi Penyewaan per Hari dalam Seminggu"
      ]
    },
    {
      "cell_type": "code",
      "execution_count": 15,
      "metadata": {},
      "outputs": [
        {
          "name": "stdout",
          "output_type": "stream",
          "text": [
            "                      cnt        \n",
            "                     mean     sum\n",
            "weekday_name                     \n",
            "Monday        4338.123810  455503\n",
            "Tuesday       4510.663462  469109\n",
            "Wednesday     4548.538462  473048\n",
            "Thursday      4667.259615  485395\n",
            "Friday        4690.288462  487790\n",
            "Saturday      4550.542857  477807\n",
            "Sunday        4228.828571  444027\n"
          ]
        }
      ],
      "source": [
        "weekday_agg = day_data.groupby('weekday_name').agg({\n",
        "    'cnt': ['mean', 'sum']\n",
        "}).reindex(['Monday', 'Tuesday', 'Wednesday', 'Thursday', 'Friday', 'Saturday', 'Sunday'])\n",
        "\n",
        "print(weekday_agg)"
      ]
    },
    {
      "cell_type": "markdown",
      "metadata": {},
      "source": [
        "**Insight:**  \n",
        "- **Hari Kerja vs. Akhir Pekan**:  \n",
        "  - **Kamis-Jumat**: Penyewaan tertinggi (rata-rata **4.667-4.690 sepeda/hari**), menunjukkan peningkatan aktivitas menjelang akhir pekan.  \n",
        "  - **Minggu**: Penyewaan terendah (**4.229 sepeda/hari**), mungkin karena aktivitas santai.  \n",
        "- **Perbedaan Signifikan**:  \n",
        "  - Selisih **~400 sepeda/hari** antara hari kerja dan Minggu.  \n",
        "- **Rekomendasi**:  \n",
        "  - Promosi khusus di akhir pekan untuk meningkatkan utilisasi."
      ]
    },
    {
      "cell_type": "markdown",
      "metadata": {},
      "source": [
        "#### Agregasi Penyewaan per Musim"
      ]
    },
    {
      "cell_type": "code",
      "execution_count": 16,
      "metadata": {},
      "outputs": [
        {
          "name": "stdout",
          "output_type": "stream",
          "text": [
            "                     cnt               temp\n",
            "                    mean      sum      mean\n",
            "season_name                                \n",
            "Spring       2604.132597   471348  0.297748\n",
            "Summer       4992.331522   918589  0.544405\n",
            "Fall         5644.303191  1061129  0.706309\n",
            "Winter       4728.162921   841613  0.422906\n"
          ]
        }
      ],
      "source": [
        "seasonal_agg = day_data.groupby('season_name').agg({\n",
        "    'cnt': ['mean', 'sum'],\n",
        "    'temp': 'mean'  # Tambahkan suhu rata-rata untuk konteks\n",
        "})\n",
        "\n",
        "print(seasonal_agg)"
      ]
    },
    {
      "cell_type": "markdown",
      "metadata": {},
      "source": [
        "**Insight:**  \n",
        "- **Musim Terbaik vs. Terburuk**:  \n",
        "  - **Fall (Gugur)**: Penyewaan tertinggi (**5.644 sepeda/hari**), didukung suhu nyaman (rata-rata **0.71** dalam skala normalisasi).  \n",
        "  - **Winter (Dingin)**: Penyewaan turun **16%** dari Fall, meski masih lebih tinggi dari Spring.  \n",
        "- **Suhu vs. Penyewaan**:  \n",
        "  - Korelasi jelas: Semakin hangat, penyewaan meningkat (Summer: **0.54 suhu**, Fall: **0.71 suhu**).  \n",
        "- **Rekomendasi**:  \n",
        "  - Siapkan strategi retensi pengguna di musim dingin (contoh: diskon langganan bulanan)."
      ]
    },
    {
      "cell_type": "markdown",
      "metadata": {},
      "source": [
        "### Agregasi untuk Pertanyaan 2: Pengaruh Cuaca Terhadap Penyewaan"
      ]
    },
    {
      "cell_type": "markdown",
      "metadata": {},
      "source": [
        "#### Agregasi Penyewaan Berdasarkan Kondisi Cuaca"
      ]
    },
    {
      "cell_type": "code",
      "execution_count": 17,
      "metadata": {},
      "outputs": [
        {
          "name": "stdout",
          "output_type": "stream",
          "text": [
            "                         cnt             hum\n",
            "                        mean count      mean\n",
            "weather_name                                \n",
            "Clear            4876.786177   463  0.565594\n",
            "Mist             4035.862348   247  0.725887\n",
            "Light Snow/Rain  1803.285714    21  0.848872\n"
          ]
        }
      ],
      "source": [
        "weather_agg = day_data.groupby('weather_name').agg({\n",
        "    'cnt': ['mean', 'count'],\n",
        "    'hum': 'mean'  # Kelembaban rata-rata\n",
        "})\n",
        "\n",
        "print(weather_agg)"
      ]
    },
    {
      "cell_type": "markdown",
      "metadata": {},
      "source": [
        "**Insight:**  \n",
        "- **Dampak Cuaca Ekstrem**:  \n",
        "  - **Clear (Cerah)**: Penyewaan **2.7x lebih tinggi** daripada Light Snow/Rain.  \n",
        "  - **Light Snow/Rain**: Penyewaan hanya **1.803 sepeda/hari**, dengan kelembaban tinggi (**84.9%**).  \n",
        "- **Cuaca Berkabut (Mist)**:  \n",
        "  - Masih memungkinkan penyewaan **4.036 sepeda/hari**, tetapi lebih rendah dari cerah.  \n",
        "- **Rekomendasi**:  \n",
        "  - Berikan **diskon 20-30%** saat cuaca buruk untuk mempertahankan minat. "
      ]
    },
    {
      "cell_type": "markdown",
      "metadata": {},
      "source": [
        "#### Agregasi Penyewaan per Kombinasi Cuaca dan Musim"
      ]
    },
    {
      "cell_type": "code",
      "execution_count": 18,
      "metadata": {},
      "outputs": [
        {
          "name": "stdout",
          "output_type": "stream",
          "text": [
            "                         cnt                                       \n",
            "season_name           Spring       Summer         Fall       Winter\n",
            "weather_name                                                       \n",
            "Clear            2811.135135  5548.548673  5878.257353  5043.563107\n",
            "Mist             2357.166667  4236.705882  5222.479167  4654.000000\n",
            "Light Snow/Rain   934.750000  1169.000000  2751.750000  1961.600000\n"
          ]
        }
      ],
      "source": [
        "weather_season_agg = day_data.groupby(['weather_name', 'season_name']).agg({\n",
        "    'cnt': 'mean'\n",
        "}).unstack()\n",
        "\n",
        "print(weather_season_agg)"
      ]
    },
    {
      "cell_type": "markdown",
      "metadata": {},
      "source": [
        "**Insight:**  \n",
        "- **Optimal Conditions**:  \n",
        "  - **Fall + Clear**: Penyewaan tertinggi (**5.878 sepeda/hari**).  \n",
        "  - **Winter + Light Snow/Rain**: Penyewaan terendah (**1.961 sepeda/hari**).  \n",
        "- **Cuaca Buruk di Musim Panas**:  \n",
        "  - Penyewaan tetap **1.169 sepeda/hari** (lebih tinggi daripada musim dingin).  \n",
        "- **Rekomendasi**:  \n",
        "  - Fokuskan promosi pada **Fall dan Summer** saat cuaca cerah."
      ]
    },
    {
      "cell_type": "markdown",
      "metadata": {},
      "source": [
        "### Agregasi Lanjutan untuk Analisis Demografi Pengguna"
      ]
    },
    {
      "cell_type": "markdown",
      "metadata": {},
      "source": [
        "#### Penyewaan oleh Pengguna Casual vs. Registered"
      ]
    },
    {
      "cell_type": "code",
      "execution_count": 19,
      "metadata": {},
      "outputs": [
        {
          "name": "stdout",
          "output_type": "stream",
          "text": [
            "                   casual   registered\n",
            "weekday_name                          \n",
            "Sunday        1338.295238  2890.533333\n",
            "Monday         674.133333  3663.990476\n",
            "Tuesday        556.182692  3954.480769\n",
            "Wednesday      551.144231  3997.394231\n",
            "Thursday       590.961538  4076.298077\n",
            "Friday         752.288462  3938.000000\n",
            "Saturday      1465.257143  3085.285714\n"
          ]
        }
      ],
      "source": [
        "user_type_agg = day_data.groupby('weekday_name').agg({\n",
        "    'casual': 'mean',\n",
        "    'registered': 'mean'\n",
        "})\n",
        "\n",
        "print(user_type_agg)"
      ]
    },
    {
      "cell_type": "markdown",
      "metadata": {},
      "source": [
        "**Insight:**  \n",
        "- **Perilaku Pengguna**:  \n",
        "  - **Casual Users**: Dominan di **akhir pekan** (Minggu: **1.338 sepeda/hari** vs. Selasa: **556 sepeda/hari**).  \n",
        "  - **Registered Users**: Konsisten tinggi di **hari kerja** (Kamis: **4.076 sepeda/hari**).  \n",
        "- **Segmentasi Pasar**:  \n",
        "  - Casual users mungkin turis/rekreasi, registered users adalah komuter.  \n",
        "- **Rekomendasi**:  \n",
        "  - Program loyalitas untuk registered users (contoh: paket bulanan).  \n",
        "  - Promosi event akhir pekan untuk casual users."
      ]
    },
    {
      "cell_type": "markdown",
      "metadata": {},
      "source": [
        "#### Korelasi antara Suhu dan Penyewaan"
      ]
    },
    {
      "cell_type": "code",
      "execution_count": 20,
      "metadata": {},
      "outputs": [
        {
          "name": "stdout",
          "output_type": "stream",
          "text": [
            "          temp       cnt\n",
            "temp  1.000000  0.627494\n",
            "cnt   0.627494  1.000000\n"
          ]
        }
      ],
      "source": [
        "temp_rental_corr = day_data[['temp', 'cnt']].corr()\n",
        "print(temp_rental_corr)"
      ]
    },
    {
      "cell_type": "markdown",
      "metadata": {},
      "source": [
        "**Insight:**  \n",
        "- **Korelasi Kuat**:  \n",
        "  - Koefisien korelasi **0.63** menunjukkan suhu adalah faktor dominan.  \n",
        "- **Implikasi Bisnis**:  \n",
        "  - Prediksi penyewaan bisa menggunakan data suhu sebagai parameter utama."
      ]
    },
    {
      "cell_type": "markdown",
      "metadata": {
        "id": "zsyZjqak8DC2"
      },
      "source": [
        "## Visualization & Explanatory Analysis"
      ]
    },
    {
      "cell_type": "markdown",
      "metadata": {
        "id": "HZxOiQ6n8DC2"
      },
      "source": [
        "### Pertanyaan 1: Pola Penggunaan Sepeda Berdasarkan Waktu"
      ]
    },
    {
      "cell_type": "code",
      "execution_count": null,
      "metadata": {
        "colab": {
          "base_uri": "https://localhost:8080/",
          "height": 548
        },
        "id": "1swJUdAD8DC2",
        "outputId": "73d16dc8-63e9-477b-aa5c-6b9c0b0a7bac"
      },
      "outputs": [],
      "source": [
        "# Visualisasi pola temporal dalam satu dashboard\n",
        "fig, axes = plt.subplots(2, 2, figsize=(20, 16))\n",
        "\n",
        "# Pola jam\n",
        "hourly_rentals = hour_data.groupby('hr')['cnt'].mean()\n",
        "sns.lineplot(ax=axes[0, 0], x=hourly_rentals.index, y=hourly_rentals.values, marker='o', color='darkblue', linewidth=2)\n",
        "axes[0, 0].set_title('Rata-rata Penyewaan per Jam', fontsize=16)\n",
        "axes[0, 0].set_xlabel('Jam', fontsize=12)\n",
        "axes[0, 0].set_ylabel('Rata-rata Penyewaan', fontsize=12)\n",
        "axes[0, 0].set_xticks(range(0, 24))\n",
        "axes[0, 0].grid(True)\n",
        "\n",
        "# Pola hari\n",
        "daily_rentals = day_data.groupby('weekday_name')['cnt'].mean().reindex(['Monday', 'Tuesday', 'Wednesday', 'Thursday', 'Friday', 'Saturday', 'Sunday'])\n",
        "sns.barplot(ax=axes[0, 1], x=daily_rentals.index, y=daily_rentals.values, palette='Blues_d')\n",
        "axes[0, 1].set_title('Rata-rata Penyewaan per Hari', fontsize=16)\n",
        "axes[0, 1].set_xlabel('Hari', fontsize=12)\n",
        "axes[0, 1].set_ylabel('Rata-rata Penyewaan', fontsize=12)\n",
        "axes[0, 1].set_xticklabels(axes[0, 1].get_xticklabels(), rotation=45)\n",
        "\n",
        "# Pola bulan\n",
        "monthly_rentals = day_data.groupby('month_name')['cnt'].mean().reindex(list(calendar.month_name)[1:])\n",
        "sns.barplot(ax=axes[1, 0], x=monthly_rentals.index, y=monthly_rentals.values, palette='Blues_d')\n",
        "axes[1, 0].set_title('Rata-rata Penyewaan per Bulan', fontsize=16)\n",
        "axes[1, 0].set_xlabel('Bulan', fontsize=12)\n",
        "axes[1, 0].set_ylabel('Rata-rata Penyewaan', fontsize=12)\n",
        "axes[1, 0].set_xticklabels(axes[1, 0].get_xticklabels(), rotation=45)\n",
        "\n",
        "# Pola musim\n",
        "seasonal_rentals = day_data.groupby('season_name')['cnt'].mean().reindex(['Spring', 'Summer', 'Fall', 'Winter'])\n",
        "sns.barplot(ax=axes[1, 1], x=seasonal_rentals.index, y=seasonal_rentals.values, palette='Blues_d')\n",
        "axes[1, 1].set_title('Rata-rata Penyewaan per Musim', fontsize=16)\n",
        "axes[1, 1].set_xlabel('Musim', fontsize=12)\n",
        "axes[1, 1].set_ylabel('Rata-rata Penyewaan', fontsize=12)\n",
        "\n",
        "plt.suptitle('Pola Penggunaan Sepeda Berdasarkan Waktu', fontsize=22, y=1.02)\n",
        "plt.tight_layout()\n",
        "plt.show()"
      ]
    },
    {
      "cell_type": "markdown",
      "metadata": {
        "id": "Y5FWK7skbc2R"
      },
      "source": [
        "- **Rata-rata Penyewaan per Jam**:\n",
        "  - **Pola Jam Sibuk**: Terdapat dua puncak penyewaan, yaitu pada **jam 8 pagi** dan **jam 5-6 sore**.\n",
        "  - **Pola Jam Tenang**: Penyewaan rendah pada **jam 12 malam hingga 5 pagi**.\n",
        "- **Rata-rata Penyewaan per Hari**:\n",
        "  - **Hari Kerja (Senin-Jumat)**: Penyewaan lebih tinggi, terutama pada **Kamis dan Jumat**.\n",
        "  - **Akhir Pekan (Sabtu-Minggu)**: Penyewaan lebih rendah, tetapi lebih merata sepanjang hari.\n",
        "- **Rata-rata Penyewaan per Bulan**:\n",
        "  - **Puncak Penyewaan**: **Juni-September** (musim panas).\n",
        "  - **Terendah**: **Desember-Januari** (musim dingin).\n",
        "- **Rata-rata Penyewaan per Musim**:\n",
        "  - **Musim Panas (Summer)**: Penyewaan tertinggi.\n",
        "  - **Musim Dingin (Winter)**: Penyewaan terendah.\n",
        "\n",
        "**Insight:**\n",
        "- **Pola Jam Sibuk**: Menunjukkan bahwa penyewaan sepeda banyak digunakan untuk **commuting** (pergi dan pulang kerja).\n",
        "- **Pola Bulanan dan Musiman**: Menunjukkan bahwa **musim panas** adalah periode puncak penyewaan, sementara **musim dingin** adalah periode terendah.\n",
        "\n",
        "**Hubungan dengan Pertanyaan Bisnis:**\n",
        "- **Pertanyaan 1**: Bagaimana pola penggunaan sepeda berdasarkan waktu (jam, hari, bulan, dan musim)?\n",
        "  - **Jawaban**: Penyewaan sepeda memiliki pola yang jelas berdasarkan waktu, dengan puncak pada jam sibuk, hari kerja, dan musim panas.\n",
        "  - **Rekomendasi**:\n",
        "    - Tingkatkan ketersediaan sepeda pada **jam sibuk** dan **musim panas**.\n",
        "    - Lakukan promosi khusus pada **akhir pekan** untuk meningkatkan penyewaan."
      ]
    },
    {
      "cell_type": "markdown",
      "metadata": {
        "id": "DgHI7CiU8DC2"
      },
      "source": [
        "### Pertanyaan 2: Pengaruh Cuaca terhadap Penyewaan Sepeda"
      ]
    },
    {
      "cell_type": "code",
      "execution_count": null,
      "metadata": {
        "colab": {
          "base_uri": "https://localhost:8080/",
          "height": 548
        },
        "id": "Go0lCsvO8DC2",
        "outputId": "8b910e31-576c-4a7b-93bf-9b9cb8a14b35"
      },
      "outputs": [],
      "source": [
        "# Buat canvas dengan 2 baris dan 2 kolom\n",
        "fig, axes = plt.subplots(2, 2, figsize=(20, 16))\n",
        "\n",
        "# 1. Boxplot Penyewaan Berdasarkan Kondisi Cuaca\n",
        "sns.boxplot(ax=axes[0, 0], x='weather_name', y='cnt', data=day_data, palette='Blues')\n",
        "axes[0, 0].set_title('Distribusi Penyewaan Berdasarkan Kondisi Cuaca', fontsize=16)\n",
        "axes[0, 0].set_xlabel('Kondisi Cuaca', fontsize=12)\n",
        "axes[0, 0].set_ylabel('Jumlah Penyewaan', fontsize=12)\n",
        "\n",
        "# 2. Scatter Plot Suhu vs Penyewaan\n",
        "sns.scatterplot(ax=axes[0, 1], x='temp', y='cnt', hue='season_name', data=day_data, palette='Set1')\n",
        "axes[0, 1].set_title('Hubungan Suhu dengan Jumlah Penyewaan', fontsize=16)\n",
        "axes[0, 1].set_xlabel('Suhu (°C)', fontsize=12)\n",
        "axes[0, 1].set_ylabel('Jumlah Penyewaan', fontsize=12)\n",
        "axes[0, 1].legend(title='Musim')\n",
        "\n",
        "# 3. Heatmap Korelasi Faktor Cuaca\n",
        "weather_features = ['temp', 'atemp', 'hum', 'windspeed', 'cnt']\n",
        "correlation = day_data[weather_features].corr()\n",
        "sns.heatmap(ax=axes[1, 0], data=correlation, annot=True, cmap='coolwarm', fmt='.2f')\n",
        "axes[1, 0].set_title('Korelasi Faktor Cuaca dengan Jumlah Penyewaan', fontsize=16)\n",
        "\n",
        "# 4. Distribusi Penyewaan Berdasarkan Musim dan Cuaca\n",
        "sns.boxplot(ax=axes[1, 1], x='season_name', y='cnt', hue='weather_name', data=day_data)\n",
        "axes[1, 1].set_title('Distribusi Penyewaan berdasarkan Musim dan Cuaca', fontsize=16)\n",
        "axes[1, 1].set_xlabel('Musim', fontsize=12)\n",
        "axes[1, 1].set_ylabel('Jumlah Penyewaan', fontsize=12)\n",
        "axes[1, 1].legend(title='Kondisi Cuaca')\n",
        "\n",
        "# Judul utama\n",
        "plt.suptitle('Pengaruh Kondisi Cuaca Terhadap Penyewaan Sepeda', fontsize=22, y=1.02)\n",
        "plt.tight_layout()\n",
        "plt.show()"
      ]
    },
    {
      "cell_type": "markdown",
      "metadata": {
        "id": "_0-36BDLklRg"
      },
      "source": [
        "- **Cuaca Cerah (Clear)**:\n",
        "  - Penyewaan tertinggi: **~5.000** per hari.\n",
        "  - Rentang interkuartil (IQR): **~4.000-6.000**.\n",
        "- **Cuaca Berkabut (Mist)**:\n",
        "  - Penyewaan menurun: **~3.000-4.000** per hari.\n",
        "- **Cuaca Hujan/Salju Ringan (Light Snow/Rain)**:\n",
        "  - Penyewaan terendah: **~1.000-2.000** per hari.\n",
        "\n",
        "**Visualisasi: Hubungan Suhu dengan Jumlah Penyewaan**\n",
        "- **Korelasi Positif**:\n",
        "  - Suhu memiliki korelasi positif kuat (**0,63**) dengan jumlah penyewaan.\n",
        "  - Penyewaan meningkat pada suhu **20-30°C**.\n",
        "- **Musim Panas dan Gugur**:\n",
        "  - Penyewaan tertinggi terjadi pada musim panas dan gugur, saat suhu cenderung hangat.\n",
        "\n",
        "**Visualisasi: Heatmap Korelasi Faktor Cuaca**\n",
        "- **Suhu (`temp`)**:\n",
        "  - Korelasi positif kuat (**0,63**) dengan penyewaan.\n",
        "- **Kelembaban (`hum`)**:\n",
        "  - Korelasi negatif (**-0,10**) dengan penyewaan.\n",
        "- **Kecepatan Angin (`windspeed`)**:\n",
        "  - Korelasi lemah dengan penyewaan.\n",
        "\n",
        "**Visualisasi: Distribusi Penyewaan Berdasarkan Musim dan Cuaca**\n",
        "- **Musim Panas dengan Cuaca Cerah**:\n",
        "  - Penyewaan tertinggi.\n",
        "- **Musim Dingin dengan Cuaca Buruk**:\n",
        "  - Penyewaan terendah.\n",
        "\n",
        "**Insight:**\n",
        "- **Cuaca Cerah** meningkatkan minat penyewaan sepeda secara signifikan.\n",
        "- **Cuaca Buruk** (hujan/salju) mengurangi minat penyewaan.\n",
        "- **Suhu** adalah faktor cuaca yang paling berpengaruh terhadap penyewaan.\n",
        "\n",
        "**Hubungan dengan Pertanyaan Bisnis:**\n",
        "- **Pertanyaan 2**: Bagaimana pengaruh kondisi cuaca terhadap jumlah penyewaan sepeda?\n",
        "  - **Jawaban**: Kondisi cuaca memiliki pengaruh signifikan terhadap penyewaan. Cuaca cerah dan suhu hangat meningkatkan penyewaan, sedangkan cuaca buruk mengurangi penyewaan.\n",
        "  - **Rekomendasi**:\n",
        "    - Tingkatkan promosi pada hari-hari dengan **cuaca cerah**.\n",
        "    - Berikan insentif (diskon) pada hari-hari dengan **cuaca buruk** untuk menarik minat penyewaan."
      ]
    },
    {
      "cell_type": "markdown",
      "metadata": {
        "id": "9y4VUsmcYNZ5"
      },
      "source": [
        "## Analisis Lanjutan (Opsional)"
      ]
    },
    {
      "cell_type": "markdown",
      "metadata": {
        "id": "ZPO7zgRtsvWU"
      },
      "source": [
        "### Melakukan clustering pengguna berdasarkan pola penyewaan per jam"
      ]
    },
    {
      "cell_type": "code",
      "execution_count": null,
      "metadata": {
        "id": "pEs6slYXs3PW"
      },
      "outputs": [],
      "source": [
        "# Membuat pivot table rata-rata penyewaan per jam untuk setiap hari dalam seminggu\n",
        "hourly_pattern = hour_data.pivot_table(\n",
        "    index='weekday',\n",
        "    columns='hr',\n",
        "    values='cnt',\n",
        "    aggfunc='mean'\n",
        ")"
      ]
    },
    {
      "cell_type": "code",
      "execution_count": null,
      "metadata": {
        "id": "xWgK9Coas7f-"
      },
      "outputs": [],
      "source": [
        "# Standarisasi data\n",
        "scaler = StandardScaler()\n",
        "hourly_pattern_scaled = scaler.fit_transform(hourly_pattern)"
      ]
    },
    {
      "cell_type": "code",
      "execution_count": null,
      "metadata": {
        "colab": {
          "base_uri": "https://localhost:8080/",
          "height": 400
        },
        "id": "a5ZJFxQKs80U",
        "outputId": "0c0947f2-d1bd-4557-9933-5cd776ce7ddf"
      },
      "outputs": [],
      "source": [
        "# Menentukan jumlah cluster optimal dengan metode elbow\n",
        "inertia = []\n",
        "for k in range(1, 8):\n",
        "    kmeans = KMeans(n_clusters=k, random_state=42)\n",
        "    kmeans.fit(hourly_pattern_scaled)\n",
        "    inertia.append(kmeans.inertia_)\n",
        "\n",
        "plt.figure(figsize=(10, 6))\n",
        "plt.plot(range(1, 8), inertia, marker='o')\n",
        "plt.title('Metode Elbow untuk Menentukan Jumlah Cluster Optimal', fontsize=14)\n",
        "plt.xlabel('Jumlah Cluster', fontsize=12)\n",
        "plt.ylabel('Inertia', fontsize=12)\n",
        "plt.xticks(range(1, 8), fontsize=10)\n",
        "plt.yticks(fontsize=10)\n",
        "plt.grid(True, alpha=0.3)\n",
        "plt.tight_layout()\n",
        "plt.show()"
      ]
    },
    {
      "cell_type": "markdown",
      "metadata": {
        "id": "i7BN9Gw6zaBD"
      },
      "source": [
        "- Grafik menunjukkan penurunan **inertia** (jarak antara titik data dan centroid cluster) seiring dengan peningkatan jumlah cluster.\n",
        "- **Elbow Point**: Terjadi pada **3 cluster**, di mana penurunan inertia mulai melambat.\n",
        "- **Kesimpulan**: Jumlah cluster optimal adalah **3**.\n",
        "\n",
        "**Insight:**\n",
        "- **3 cluster** dipilih karena memberikan keseimbangan antara kompleksitas model dan kemampuan untuk mengelompokkan data dengan baik."
      ]
    },
    {
      "cell_type": "code",
      "execution_count": null,
      "metadata": {
        "id": "J5AETQmStAv2"
      },
      "outputs": [],
      "source": [
        "# Berdasarkan metode elbow, kita pilih jumlah cluster yang optimal\n",
        "n_clusters = 3\n",
        "kmeans = KMeans(n_clusters=n_clusters, random_state=42)\n",
        "cluster_labels = kmeans.fit_predict(hourly_pattern_scaled)"
      ]
    },
    {
      "cell_type": "code",
      "execution_count": null,
      "metadata": {
        "id": "EP4YdG7-tQN4"
      },
      "outputs": [],
      "source": [
        "# Menambahkan label cluster ke data\n",
        "hourly_pattern['cluster'] = cluster_labels"
      ]
    },
    {
      "cell_type": "code",
      "execution_count": null,
      "metadata": {
        "colab": {
          "base_uri": "https://localhost:8080/",
          "height": 336
        },
        "id": "kBISXcsHtR-v",
        "outputId": "4cc400f5-2bba-49f9-cdb5-42665e309ddc"
      },
      "outputs": [],
      "source": [
        "# Visualisasi hasil clustering\n",
        "plt.figure(figsize=(16, 8))\n",
        "for cluster in range(n_clusters):\n",
        "    cluster_data = hourly_pattern[hourly_pattern['cluster'] == cluster].drop('cluster', axis=1)\n",
        "    hourly_counts = cluster_data.mean()\n",
        "    plt.plot(\n",
        "        hourly_counts.index,\n",
        "        hourly_counts.values,\n",
        "        marker='o',\n",
        "        linewidth=2,\n",
        "        label=f'Cluster {cluster+1}'\n",
        "    )\n",
        "\n",
        "plt.title('Pola Penyewaan Sepeda Per Jam Berdasarkan Cluster', fontsize=14)\n",
        "plt.xlabel('Jam', fontsize=12)\n",
        "plt.ylabel('Rata-rata Jumlah Penyewaan', fontsize=12)\n",
        "plt.xticks(range(0, 24), fontsize=10)\n",
        "plt.yticks(fontsize=10)\n",
        "plt.grid(True, alpha=0.3)\n",
        "plt.legend(fontsize=12)\n",
        "plt.tight_layout()\n",
        "plt.show()"
      ]
    },
    {
      "cell_type": "code",
      "execution_count": null,
      "metadata": {
        "colab": {
          "base_uri": "https://localhost:8080/"
        },
        "id": "XWETDANPtf71",
        "outputId": "88d425ba-167b-4d32-d2ce-d688dd6283a4"
      },
      "outputs": [],
      "source": [
        "# Interpretasi hasil clustering\n",
        "cluster_days = {}\n",
        "weekday_names = ['Sunday', 'Monday', 'Tuesday', 'Wednesday', 'Thursday', 'Friday', 'Saturday']\n",
        "for cluster in range(n_clusters):\n",
        "    days_in_cluster = hourly_pattern[hourly_pattern['cluster'] == cluster].index\n",
        "    cluster_days[f'Cluster {cluster+1}'] = [weekday_names[day] for day in days_in_cluster]\n",
        "\n",
        "print(\"Pengelompokan Hari Berdasarkan Pola Penyewaan:\")\n",
        "for cluster, days in cluster_days.items():\n",
        "    print(f\"{cluster}: {', '.join(days)}\")"
      ]
    },
    {
      "cell_type": "markdown",
      "metadata": {
        "id": "62hZVieucpkZ"
      },
      "source": [
        "- **Cluster 1**:\n",
        "  - **Hari**: Senin, Selasa, Rabu, Kamis, Jumat.\n",
        "  - **Pola**: Dua puncak penyewaan pada **jam 8 pagi** dan **jam 5-6 sore**.\n",
        "  - **Interpretasi**: Pola ini menunjukkan penggunaan sepeda untuk **commuting** (pergi dan pulang kerja).\n",
        "- **Cluster 2**:\n",
        "  - **Hari**: Sabtu.\n",
        "  - **Pola**: Penyewaan meningkat secara bertahap dari pagi hingga siang, dengan puncak pada **jam 12 siang hingga 4 sore**.\n",
        "  - **Interpretasi**: Pola ini menunjukkan penggunaan sepeda untuk **aktivitas rekreasi** di akhir pekan.\n",
        "- **Cluster 3**:\n",
        "  - **Hari**: Minggu.\n",
        "  - **Pola**: Penyewaan lebih rendah dibandingkan Sabtu, dengan puncak pada **jam 10 pagi hingga 2 siang**.\n",
        "  - **Interpretasi**: Pola ini menunjukkan penggunaan sepeda untuk **aktivitas santai** di hari libur.\n",
        "\n",
        "**Insight:**\n",
        "- **Cluster 1** (Hari Kerja): Penyewaan sepeda didominasi oleh **pengguna commuting**.\n",
        "- **Cluster 2** (Sabtu): Penyewaan sepeda didominasi oleh **pengguna rekreasi**.\n",
        "- **Cluster 3** (Minggu): Penyewaan sepeda lebih rendah, menunjukkan aktivitas yang lebih santai."
      ]
    },
    {
      "cell_type": "markdown",
      "metadata": {
        "id": "Nuv6JwztzyPA"
      },
      "source": [
        "### **Hubungan dengan Pertanyaan Bisnis**\n",
        "\n",
        "#### **Pertanyaan 1: Bagaimana pola penggunaan sepeda berdasarkan waktu (jam, hari, bulan, dan musim)?**\n",
        "- **Jawaban**:\n",
        "  - **Hari Kerja (Senin-Jumat)**: Penyewaan sepeda memiliki dua puncak pada jam sibuk (8 pagi dan 5-6 sore), menunjukkan penggunaan untuk **commuting**.\n",
        "  - **Sabtu**: Penyewaan meningkat secara bertahap dari pagi hingga siang, menunjukkan penggunaan untuk **rekreasi**.\n",
        "  - **Minggu**: Penyewaan lebih rendah, dengan puncak pada siang hari, menunjukkan aktivitas yang lebih santai.\n",
        "- **Rekomendasi**:\n",
        "  - **Hari Kerja**: Tingkatkan ketersediaan sepeda pada **jam sibuk**.\n",
        "  - **Sabtu**: Lakukan promosi khusus untuk aktivitas rekreasi.\n",
        "  - **Minggu**: Pertimbangkan program sewa jangka panjang dengan diskon untuk menarik pengguna.\n",
        "\n",
        "#### **Pertanyaan 2: Bagaimana pengaruh kondisi cuaca terhadap jumlah penyewaan sepeda?**\n",
        "- **Jawaban**:\n",
        "  - **Cuaca Cerah**: Meningkatkan minat penyewaan, terutama pada **hari kerja** dan **Sabtu**.\n",
        "  - **Cuaca Buruk**: Mengurangi minat penyewaan, terutama pada **Minggu**.\n",
        "- **Rekomendasi**:\n",
        "  - **Cuaca Cerah**: Tingkatkan promosi dan ketersediaan sepeda.\n",
        "  - **Cuaca Buruk**: Berikan insentif (diskon) untuk menarik minat penyewaan."
      ]
    },
    {
      "cell_type": "markdown",
      "metadata": {
        "id": "_WeHlCeX8DC2"
      },
      "source": [
        "## Conclusion"
      ]
    },
    {
      "cell_type": "markdown",
      "metadata": {
        "id": "ZTcyR48Y8DC2"
      },
      "source": [
        "### **1. Pola Penggunaan Sepeda Berdasarkan Waktu (Pertanyaan 1)**\n",
        "\n",
        "**Kesimpulan:**\n",
        "- **Pola Jam**:\n",
        "  - Terdapat dua puncak penyewaan pada **jam 8 pagi** dan **jam 5-6 sore**, menunjukkan penggunaan sepeda untuk **commuting** (pergi dan pulang kerja).\n",
        "  - Penyewaan rendah pada **jam 12 malam hingga 5 pagi**.\n",
        "- **Pola Hari**:\n",
        "  - **Hari Kerja (Senin-Jumat)**: Penyewaan lebih tinggi, terutama pada **Kamis dan Jumat**.\n",
        "  - **Akhir Pekan (Sabtu-Minggu)**: Penyewaan lebih rendah, tetapi lebih merata sepanjang hari.\n",
        "- **Pola Bulan dan Musim**:\n",
        "  - **Musim Panas (Juni-September)**: Penyewaan tertinggi, dengan puncak pada **Agustus dan September**.\n",
        "  - **Musim Dingin (November-Desember)**: Penyewaan terendah.\n",
        "\n",
        "**Rekomendasi:**\n",
        "- **Jam Sibuk (8 pagi & 5-6 sore)**:\n",
        "  - Tingkatkan ketersediaan sepeda.\n",
        "  - Lakukan promosi khusus untuk pengguna commuting.\n",
        "- **Musim Panas (Juni-September)**:\n",
        "  - Optimalkan operasional untuk memenuhi permintaan tinggi.\n",
        "  - Lakukan promosi intensif.\n",
        "- **Musim Dingin (November-Desember)**:\n",
        "  - Kurangi ketersediaan sepeda untuk menghemat biaya operasional.\n",
        "  - Pertimbangkan program sewa jangka panjang dengan diskon."
      ]
    },
    {
      "cell_type": "markdown",
      "metadata": {
        "id": "LnKNEQbj0jM6"
      },
      "source": [
        "### **2. Pengaruh Kondisi Cuaca terhadap Penyewaan Sepeda (Pertanyaan 2)**\n",
        "\n",
        "**Kesimpulan:**\n",
        "- **Cuaca Cerah**:\n",
        "  - Meningkatkan minat penyewaan secara signifikan, terutama pada **hari kerja** dan **Sabtu**.\n",
        "  - Penyewaan tertinggi terjadi pada suhu **20-30°C**.\n",
        "- **Cuaca Buruk (Hujan/Salju)**:\n",
        "  - Mengurangi minat penyewaan, terutama pada **Minggu**.\n",
        "  - Penyewaan terendah terjadi pada kondisi cuaca ekstrem.\n",
        "\n",
        "**Rekomendasi:**\n",
        "- **Cuaca Cerah**:\n",
        "  - Tingkatkan promosi dan ketersediaan sepeda.\n",
        "  - Lakukan promosi khusus pada hari-hari cerah.\n",
        "- **Cuaca Buruk**:\n",
        "  - Berikan insentif (diskon) untuk menarik minat penyewaan.\n",
        "  - Siapkan strategi pemasaran yang menekankan manfaat bersepeda dalam cuaca buruk."
      ]
    },
    {
      "cell_type": "markdown",
      "metadata": {
        "id": "edJ3CLAR0mXq"
      },
      "source": [
        "### **3. Analisis Lanjutan: Clustering**\n",
        "\n",
        "**Kesimpulan:**\n",
        "- **Cluster 1 (Hari Kerja: Senin-Jumat)**:\n",
        "  - Pola penyewaan menunjukkan penggunaan untuk **commuting**.\n",
        "- **Cluster 2 (Sabtu)**:\n",
        "  - Pola penyewaan menunjukkan penggunaan untuk **rekreasi**.\n",
        "- **Cluster 3 (Minggu)**:\n",
        "  - Pola penyewaan menunjukkan aktivitas yang lebih **santai**.\n",
        "\n",
        "**Rekomendasi:**\n",
        "- **Hari Kerja (Senin-Jumat)**:\n",
        "  - Tingkatkan ketersediaan sepeda pada **jam sibuk**.\n",
        "  - Lakukan promosi khusus untuk pengguna commuting.\n",
        "- **Sabtu**:\n",
        "  - Tingkatkan ketersediaan sepeda pada **siang hari**.\n",
        "  - Lakukan promosi khusus untuk aktivitas rekreasi.\n",
        "- **Minggu**:\n",
        "  - Pertimbangkan program sewa jangka panjang dengan diskon untuk menarik pengguna."
      ]
    },
    {
      "cell_type": "markdown",
      "metadata": {
        "id": "ixDSLqFq0q6d"
      },
      "source": [
        "### **4. Kesimpulan Umum**\n",
        "\n",
        "- **Pola waktu** (jam, hari, bulan, dan musim) dan **kondisi cuaca** memiliki pengaruh signifikan terhadap jumlah penyewaan sepeda.\n",
        "- **Musim panas** dan **cuaca cerah** adalah periode puncak penyewaan, sementara **musim dingin** dan **cuaca buruk** adalah periode terendah.\n",
        "- Rekomendasi bisnis yang dihasilkan dapat membantu meningkatkan **efisiensi operasional** dan **pendapatan** dengan memaksimalkan penyewaan pada periode puncak dan menarik minat penyewaan pada periode rendah."
      ]
    }
  ],
  "metadata": {
    "colab": {
      "provenance": []
    },
    "kernelspec": {
      "display_name": "dsml",
      "language": "python",
      "name": "python3"
    },
    "language_info": {
      "codemirror_mode": {
        "name": "ipython",
        "version": 3
      },
      "file_extension": ".py",
      "mimetype": "text/x-python",
      "name": "python",
      "nbconvert_exporter": "python",
      "pygments_lexer": "ipython3",
      "version": "3.10.11"
    },
    "orig_nbformat": 4
  },
  "nbformat": 4,
  "nbformat_minor": 0
}
